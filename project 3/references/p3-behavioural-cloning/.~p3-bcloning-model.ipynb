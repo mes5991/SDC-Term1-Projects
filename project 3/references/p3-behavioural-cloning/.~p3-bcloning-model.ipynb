{
 "cells": [
  {
   "cell_type": "markdown",
   "metadata": {},
   "source": [
    "# Behavioural Cloning Model"
   ]
  },
  {
   "cell_type": "markdown",
   "metadata": {},
   "source": [
    "Plan:\n",
    "\n",
    "1. Set up training and test sets\n",
    "    - X: center image. Possibly also speed, left and right images, brake.\n",
    "    - y: Steering angle\n",
    "2. Normalise input data (center image)\n",
    "    - Opt: Should we CV it like we did in the lane lines project?\n",
    "3. Build basic Keras model.\n",
    "    - Continuous output?\n",
    "    - Reference traffic sign classifier model.\n",
    "4. Set up evaluation of Keras model.\n",
    "5. Train the model for 5 epochs and see what results we get\n",
    "6. Improve on model.\n"
   ]
  },
  {
   "cell_type": "markdown",
   "metadata": {},
   "source": [
    "### Imports"
   ]
  },
  {
   "cell_type": "code",
   "execution_count": 2,
   "metadata": {
    "collapsed": true
   },
   "outputs": [],
   "source": [
    "import pickle\n",
    "import pandas as pd\n",
    "import numpy as np\n",
    "import cv2\n",
    "import matplotlib.pyplot as plt\n",
    "import matplotlib.image as mpimg\n",
    "%matplotlib inline"
   ]
  },
  {
   "cell_type": "code",
   "execution_count": 132,
   "metadata": {
    "collapsed": true
   },
   "outputs": [],
   "source": [
    "from keras.preprocessing.image import ImageDataGenerator\n",
    "from keras.models import Sequential\n",
    "from keras.layers import Dense, Dropout, Activation, Flatten\n",
    "from keras.layers import Convolution2D, MaxPooling2D\n",
    "from keras.optimizers import SGD, Adam, RMSprop\n",
    "from keras.utils import np_utils"
   ]
  },
  {
   "cell_type": "code",
   "execution_count": 139,
   "metadata": {
    "collapsed": true
   },
   "outputs": [],
   "source": [
    "from sklearn.model_selection import train_test_split"
   ]
  },
  {
   "cell_type": "raw",
   "metadata": {},
   "source": [
    "# for wrap-with-sklearn verion\n",
    "from keras.wrappers.scikit_learn import KerasRegressor\n",
    "from sklearn.model_selection import cross_val_score\n",
    "from sklearn.model_selection import KFold\n",
    "from sklearn.preprocessing import StandardScaler\n",
    "from sklearn.pipeline import Pipeline"
   ]
  },
  {
   "cell_type": "markdown",
   "metadata": {},
   "source": [
    "### Read in data"
   ]
  },
  {
   "cell_type": "code",
   "execution_count": 1,
   "metadata": {
    "collapsed": true
   },
   "outputs": [],
   "source": [
    "driving_info = \"data/driving_log.csv\""
   ]
  },
  {
   "cell_type": "code",
   "execution_count": 8,
   "metadata": {
    "collapsed": false
   },
   "outputs": [],
   "source": [
    "## Import data\n",
    "# Added header row manually to CSV.\n",
    "driving_csv = pd.read_csv(\"data/driving_log.csv\")"
   ]
  },
  {
   "cell_type": "code",
   "execution_count": 17,
   "metadata": {
    "collapsed": false
   },
   "outputs": [
    {
     "name": "stdout",
     "output_type": "stream",
     "text": [
      "Number of datapoints: 2621\n"
     ]
    },
    {
     "data": {
      "text/html": [
       "<div>\n",
       "<table border=\"1\" class=\"dataframe\">\n",
       "  <thead>\n",
       "    <tr style=\"text-align: right;\">\n",
       "      <th></th>\n",
       "      <th>Centre Image</th>\n",
       "      <th>Left Image</th>\n",
       "      <th>Right Image</th>\n",
       "      <th>Steering Angle</th>\n",
       "      <th>Throttle</th>\n",
       "      <th>Brake</th>\n",
       "      <th>Speed</th>\n",
       "    </tr>\n",
       "  </thead>\n",
       "  <tbody>\n",
       "    <tr>\n",
       "      <th>0</th>\n",
       "      <td>/Users/jessica/Downloads/behavioural-cloning/I...</td>\n",
       "      <td>/Users/jessica/Downloads/behavioural-cloning/...</td>\n",
       "      <td>/Users/jessica/Downloads/behavioural-cloning/...</td>\n",
       "      <td>0.0</td>\n",
       "      <td>0.0</td>\n",
       "      <td>0</td>\n",
       "      <td>0.419201</td>\n",
       "    </tr>\n",
       "    <tr>\n",
       "      <th>1</th>\n",
       "      <td>/Users/jessica/Downloads/behavioural-cloning/I...</td>\n",
       "      <td>/Users/jessica/Downloads/behavioural-cloning/...</td>\n",
       "      <td>/Users/jessica/Downloads/behavioural-cloning/...</td>\n",
       "      <td>0.0</td>\n",
       "      <td>0.0</td>\n",
       "      <td>0</td>\n",
       "      <td>0.414994</td>\n",
       "    </tr>\n",
       "    <tr>\n",
       "      <th>2</th>\n",
       "      <td>/Users/jessica/Downloads/behavioural-cloning/I...</td>\n",
       "      <td>/Users/jessica/Downloads/behavioural-cloning/...</td>\n",
       "      <td>/Users/jessica/Downloads/behavioural-cloning/...</td>\n",
       "      <td>0.0</td>\n",
       "      <td>0.0</td>\n",
       "      <td>0</td>\n",
       "      <td>0.410002</td>\n",
       "    </tr>\n",
       "    <tr>\n",
       "      <th>3</th>\n",
       "      <td>/Users/jessica/Downloads/behavioural-cloning/I...</td>\n",
       "      <td>/Users/jessica/Downloads/behavioural-cloning/...</td>\n",
       "      <td>/Users/jessica/Downloads/behavioural-cloning/...</td>\n",
       "      <td>0.0</td>\n",
       "      <td>0.0</td>\n",
       "      <td>0</td>\n",
       "      <td>0.405888</td>\n",
       "    </tr>\n",
       "    <tr>\n",
       "      <th>4</th>\n",
       "      <td>/Users/jessica/Downloads/behavioural-cloning/I...</td>\n",
       "      <td>/Users/jessica/Downloads/behavioural-cloning/...</td>\n",
       "      <td>/Users/jessica/Downloads/behavioural-cloning/...</td>\n",
       "      <td>0.0</td>\n",
       "      <td>0.0</td>\n",
       "      <td>0</td>\n",
       "      <td>0.001089</td>\n",
       "    </tr>\n",
       "  </tbody>\n",
       "</table>\n",
       "</div>"
      ],
      "text/plain": [
       "                                        Centre Image  \\\n",
       "0  /Users/jessica/Downloads/behavioural-cloning/I...   \n",
       "1  /Users/jessica/Downloads/behavioural-cloning/I...   \n",
       "2  /Users/jessica/Downloads/behavioural-cloning/I...   \n",
       "3  /Users/jessica/Downloads/behavioural-cloning/I...   \n",
       "4  /Users/jessica/Downloads/behavioural-cloning/I...   \n",
       "\n",
       "                                          Left Image  \\\n",
       "0   /Users/jessica/Downloads/behavioural-cloning/...   \n",
       "1   /Users/jessica/Downloads/behavioural-cloning/...   \n",
       "2   /Users/jessica/Downloads/behavioural-cloning/...   \n",
       "3   /Users/jessica/Downloads/behavioural-cloning/...   \n",
       "4   /Users/jessica/Downloads/behavioural-cloning/...   \n",
       "\n",
       "                                         Right Image   Steering Angle  \\\n",
       "0   /Users/jessica/Downloads/behavioural-cloning/...              0.0   \n",
       "1   /Users/jessica/Downloads/behavioural-cloning/...              0.0   \n",
       "2   /Users/jessica/Downloads/behavioural-cloning/...              0.0   \n",
       "3   /Users/jessica/Downloads/behavioural-cloning/...              0.0   \n",
       "4   /Users/jessica/Downloads/behavioural-cloning/...              0.0   \n",
       "\n",
       "    Throttle   Brake     Speed  \n",
       "0        0.0       0  0.419201  \n",
       "1        0.0       0  0.414994  \n",
       "2        0.0       0  0.410002  \n",
       "3        0.0       0  0.405888  \n",
       "4        0.0       0  0.001089  "
      ]
     },
     "execution_count": 17,
     "metadata": {},
     "output_type": "execute_result"
    }
   ],
   "source": [
    "# Examine data\n",
    "print(\"Number of datapoints: %d\" % len(driving_csv))\n",
    "\n",
    "driving_csv.head()"
   ]
  },
  {
   "cell_type": "code",
   "execution_count": 124,
   "metadata": {
    "collapsed": true
   },
   "outputs": [],
   "source": [
    "# Extract centre image and steering angle from table\n",
    "# Format: X_path: centre image name, y: steeringa angle\n",
    "X_path = [driving_csv.loc[i][\"Centre Image\"] \\\n",
    "              for i in range(len(driving_csv))]\n",
    "y = [driving_csv.loc[i][\" Steering Angle\"] \\\n",
    "              for i in range(len(driving_csv))]"
   ]
  },
  {
   "cell_type": "code",
   "execution_count": 125,
   "metadata": {
    "collapsed": false
   },
   "outputs": [],
   "source": [
    "# Import images\n",
    "# Note: Redirected X_path to this directory because previously \n",
    "# saved in a different directory\n",
    "X_images = [mpimg.imread(image_path) for image_path in X_path]"
   ]
  },
  {
   "cell_type": "code",
   "execution_count": 49,
   "metadata": {
    "collapsed": false
   },
   "outputs": [
    {
     "name": "stdout",
     "output_type": "stream",
     "text": [
      "Images: 2621\n",
      "Sample image\n"
     ]
    },
    {
     "data": {
      "text/plain": [
       "<matplotlib.image.AxesImage at 0x1336b03c8>"
      ]
     },
     "execution_count": 49,
     "metadata": {},
     "output_type": "execute_result"
    },
    {
     "data": {
      "image/png": "[encoded data removed]",
      "text/plain": [
       "<matplotlib.figure.Figure at 0x1330bbc88>"
      ]
     },
     "metadata": {},
     "output_type": "display_data"
    }
   ],
   "source": [
    "# View image\n",
    "print(\"Images: %d\" % len(X_images))\n",
    "print(\"Sample image\")\n",
    "plt.imshow(X_images[0])\n",
    "# X_images[0]"
   ]
  },
  {
   "cell_type": "code",
   "execution_count": 115,
   "metadata": {
    "collapsed": false
   },
   "outputs": [
    {
     "data": {
      "text/plain": [
       "(160, 320, 3)"
      ]
     },
     "execution_count": 115,
     "metadata": {},
     "output_type": "execute_result"
    }
   ],
   "source": [
    "X_images[0].shape"
   ]
  },
  {
   "cell_type": "markdown",
   "metadata": {},
   "source": [
    "### Train test split"
   ]
  },
  {
   "cell_type": "code",
   "execution_count": 142,
   "metadata": {
    "collapsed": false
   },
   "outputs": [],
   "source": [
    "X_train, X_test, y_train, y_test = train_test_split(X_images, y, test_size=0.2, random_state=42)"
   ]
  },
  {
   "cell_type": "code",
   "execution_count": 158,
   "metadata": {
    "collapsed": false
   },
   "outputs": [],
   "source": [
    "X_train = np.array(X_train)\n",
    "X_test = np.array(X_test)\n",
    "y_train = np.array(y_train)\n",
    "y_test = np.array(y_test)"
   ]
  },
  {
   "cell_type": "markdown",
   "metadata": {},
   "source": [
    "## Keras model"
   ]
  },
  {
   "cell_type": "code",
   "execution_count": 114,
   "metadata": {
    "collapsed": true
   },
   "outputs": [],
   "source": []
  },
  {
   "cell_type": "raw",
   "metadata": {},
   "source": [
    "def baseline_model():\n",
    "    model = Sequential()\n",
    "    # Layer 1\n",
    "    model.add(Dense(512, input_shape=(160*320*3,), init='normal', \n",
    "                    activation='relu'))\n",
    "    model.add(Dropout(0.2))\n",
    "    # Hidden layer\n",
    "    model.add(Dense(1, init='normal'))\n",
    "    # Compile model\n",
    "    model.compile(loss='mean_squared_error', optimizer='adam')\n",
    "    return model"
   ]
  },
  {
   "cell_type": "raw",
   "metadata": {},
   "source": [
    "# Fix random seed for reproducibility\n",
    "seed = 42\n",
    "np.random.seed(seed)\n",
    "# Evaluate model with standardised dataset\n",
    "estimator = KerasRegressor(build_fn=baseline_model, nb_epoch=10, batch_size=100)"
   ]
  },
  {
   "cell_type": "raw",
   "metadata": {},
   "source": [
    "kfold = KFold(n_splits=10, random_state=seed)\n",
    "results = cross_val_score(estimator, X_images, y, cv=kfold)\n",
    "print(\"Results: %.2f (%.2f) MSE\" % (results.mean(), results.std()))"
   ]
  },
  {
   "cell_type": "code",
   "execution_count": 151,
   "metadata": {
    "collapsed": false
   },
   "outputs": [],
   "source": [
    "# Convolutional model\n",
    "\n",
    "model = Sequential()\n",
    "model.add(Convolution2D(160, 3, 3, border_mode='same',\n",
    "                        input_shape=(160,320,3)))\n",
    "model.add(Activation('relu'))\n",
    "model.add(Convolution2D(32, 3, 3))\n",
    "model.add(Activation('relu'))\n",
    "model.add(MaxPooling2D(pool_size=(2, 2)))\n",
    "model.add(Dropout(0.25))\n",
    "\n",
    "model.add(Convolution2D(64, 3, 3, border_mode='same'))\n",
    "model.add(Activation('relu'))\n",
    "model.add(Convolution2D(64, 3, 3))\n",
    "model.add(Activation('relu'))\n",
    "model.add(MaxPooling2D(pool_size=(2, 2)))\n",
    "model.add(Dropout(0.25))\n",
    "\n",
    "model.add(Flatten())\n",
    "model.add(Dense(512))\n",
    "model.add(Activation('relu'))\n",
    "model.add(Dropout(0.5))\n",
    "model.add(Dense(1))"
   ]
  },
  {
   "cell_type": "code",
   "execution_count": 162,
   "metadata": {
    "collapsed": true
   },
   "outputs": [],
   "source": [
    "# Let's train the model using SGD + momentum:\n",
    "sgd = SGD(lr=0.01, decay=1e-6, momentum=0.9, nesterov=True)\n",
    "model.compile(loss='mean_squared_error',\n",
    "              optimizer=sgd,\n",
    "              metrics=['accuracy'])"
   ]
  },
  {
   "cell_type": "code",
   "execution_count": 137,
   "metadata": {
    "collapsed": true
   },
   "outputs": [],
   "source": [
    "batch_size = 100\n",
    "nb_epoch = 10\n",
    "data_augmentation = True"
   ]
  },
  {
   "cell_type": "code",
   "execution_count": 150,
   "metadata": {
    "collapsed": false
   },
   "outputs": [
    {
     "data": {
      "text/plain": [
       "160"
      ]
     },
     "execution_count": 150,
     "metadata": {},
     "output_type": "execute_result"
    }
   ],
   "source": [
    "X_train[0]"
   ]
  },
  {
   "cell_type": "code",
   "execution_count": 163,
   "metadata": {
    "collapsed": true
   },
   "outputs": [
    {
     "name": "stdout",
     "output_type": "stream",
     "text": [
      "Train on 2096 samples, validate on 525 samples\n",
      "Epoch 1/10\n",
      " 500/2096 [======>.......................] - ETA: 3494s - loss: 0.0426 - acc: 0.6960"
     ]
    },
    {
     "ename": "KeyboardInterrupt",
     "evalue": "",
     "output_type": "error",
     "traceback": [
      "\u001b[0;31m---------------------------------------------------------------------------\u001b[0m",
      "\u001b[0;31mKeyboardInterrupt\u001b[0m                         Traceback (most recent call last)",
      "\u001b[0;32m<ipython-input-163-ae72c95bca37>\u001b[0m in \u001b[0;36m<module>\u001b[0;34m()\u001b[0m\n\u001b[1;32m      3\u001b[0m               \u001b[0mnb_epoch\u001b[0m\u001b[0;34m=\u001b[0m\u001b[0mnb_epoch\u001b[0m\u001b[0;34m,\u001b[0m\u001b[0;34m\u001b[0m\u001b[0m\n\u001b[1;32m      4\u001b[0m               \u001b[0mvalidation_data\u001b[0m\u001b[0;34m=\u001b[0m\u001b[0;34m(\u001b[0m\u001b[0mX_test\u001b[0m\u001b[0;34m,\u001b[0m \u001b[0my_test\u001b[0m\u001b[0;34m)\u001b[0m\u001b[0;34m,\u001b[0m\u001b[0;34m\u001b[0m\u001b[0m\n\u001b[0;32m----> 5\u001b[0;31m               shuffle=True)\n\u001b[0m",
      "\u001b[0;32m/Users/jessica/anaconda/lib/python3.5/site-packages/keras/models.py\u001b[0m in \u001b[0;36mfit\u001b[0;34m(self, x, y, batch_size, nb_epoch, verbose, callbacks, validation_split, validation_data, shuffle, class_weight, sample_weight, **kwargs)\u001b[0m\n\u001b[1;32m    650\u001b[0m                               \u001b[0mshuffle\u001b[0m\u001b[0;34m=\u001b[0m\u001b[0mshuffle\u001b[0m\u001b[0;34m,\u001b[0m\u001b[0;34m\u001b[0m\u001b[0m\n\u001b[1;32m    651\u001b[0m                               \u001b[0mclass_weight\u001b[0m\u001b[0;34m=\u001b[0m\u001b[0mclass_weight\u001b[0m\u001b[0;34m,\u001b[0m\u001b[0;34m\u001b[0m\u001b[0m\n\u001b[0;32m--> 652\u001b[0;31m                               sample_weight=sample_weight)\n\u001b[0m\u001b[1;32m    653\u001b[0m \u001b[0;34m\u001b[0m\u001b[0m\n\u001b[1;32m    654\u001b[0m     def evaluate(self, x, y, batch_size=32, verbose=1,\n",
      "\u001b[0;32m/Users/jessica/anaconda/lib/python3.5/site-packages/keras/engine/training.py\u001b[0m in \u001b[0;36mfit\u001b[0;34m(self, x, y, batch_size, nb_epoch, verbose, callbacks, validation_split, validation_data, shuffle, class_weight, sample_weight, initial_epoch)\u001b[0m\n\u001b[1;32m   1109\u001b[0m                               \u001b[0mval_f\u001b[0m\u001b[0;34m=\u001b[0m\u001b[0mval_f\u001b[0m\u001b[0;34m,\u001b[0m \u001b[0mval_ins\u001b[0m\u001b[0;34m=\u001b[0m\u001b[0mval_ins\u001b[0m\u001b[0;34m,\u001b[0m \u001b[0mshuffle\u001b[0m\u001b[0;34m=\u001b[0m\u001b[0mshuffle\u001b[0m\u001b[0;34m,\u001b[0m\u001b[0;34m\u001b[0m\u001b[0m\n\u001b[1;32m   1110\u001b[0m                               \u001b[0mcallback_metrics\u001b[0m\u001b[0;34m=\u001b[0m\u001b[0mcallback_metrics\u001b[0m\u001b[0;34m,\u001b[0m\u001b[0;34m\u001b[0m\u001b[0m\n\u001b[0;32m-> 1111\u001b[0;31m                               initial_epoch=initial_epoch)\n\u001b[0m\u001b[1;32m   1112\u001b[0m \u001b[0;34m\u001b[0m\u001b[0m\n\u001b[1;32m   1113\u001b[0m     \u001b[0;32mdef\u001b[0m \u001b[0mevaluate\u001b[0m\u001b[0;34m(\u001b[0m\u001b[0mself\u001b[0m\u001b[0;34m,\u001b[0m \u001b[0mx\u001b[0m\u001b[0;34m,\u001b[0m \u001b[0my\u001b[0m\u001b[0;34m,\u001b[0m \u001b[0mbatch_size\u001b[0m\u001b[0;34m=\u001b[0m\u001b[0;36m32\u001b[0m\u001b[0;34m,\u001b[0m \u001b[0mverbose\u001b[0m\u001b[0;34m=\u001b[0m\u001b[0;36m1\u001b[0m\u001b[0;34m,\u001b[0m \u001b[0msample_weight\u001b[0m\u001b[0;34m=\u001b[0m\u001b[0;32mNone\u001b[0m\u001b[0;34m)\u001b[0m\u001b[0;34m:\u001b[0m\u001b[0;34m\u001b[0m\u001b[0m\n",
      "\u001b[0;32m/Users/jessica/anaconda/lib/python3.5/site-packages/keras/engine/training.py\u001b[0m in \u001b[0;36m_fit_loop\u001b[0;34m(self, f, ins, out_labels, batch_size, nb_epoch, verbose, callbacks, val_f, val_ins, shuffle, callback_metrics, initial_epoch)\u001b[0m\n\u001b[1;32m    824\u001b[0m                 \u001b[0mbatch_logs\u001b[0m\u001b[0;34m[\u001b[0m\u001b[0;34m'size'\u001b[0m\u001b[0;34m]\u001b[0m \u001b[0;34m=\u001b[0m \u001b[0mlen\u001b[0m\u001b[0;34m(\u001b[0m\u001b[0mbatch_ids\u001b[0m\u001b[0;34m)\u001b[0m\u001b[0;34m\u001b[0m\u001b[0m\n\u001b[1;32m    825\u001b[0m                 \u001b[0mcallbacks\u001b[0m\u001b[0;34m.\u001b[0m\u001b[0mon_batch_begin\u001b[0m\u001b[0;34m(\u001b[0m\u001b[0mbatch_index\u001b[0m\u001b[0;34m,\u001b[0m \u001b[0mbatch_logs\u001b[0m\u001b[0;34m)\u001b[0m\u001b[0;34m\u001b[0m\u001b[0m\n\u001b[0;32m--> 826\u001b[0;31m                 \u001b[0mouts\u001b[0m \u001b[0;34m=\u001b[0m \u001b[0mf\u001b[0m\u001b[0;34m(\u001b[0m\u001b[0mins_batch\u001b[0m\u001b[0;34m)\u001b[0m\u001b[0;34m\u001b[0m\u001b[0m\n\u001b[0m\u001b[1;32m    827\u001b[0m                 \u001b[0;32mif\u001b[0m \u001b[0mtype\u001b[0m\u001b[0;34m(\u001b[0m\u001b[0mouts\u001b[0m\u001b[0;34m)\u001b[0m \u001b[0;34m!=\u001b[0m \u001b[0mlist\u001b[0m\u001b[0;34m:\u001b[0m\u001b[0;34m\u001b[0m\u001b[0m\n\u001b[1;32m    828\u001b[0m                     \u001b[0mouts\u001b[0m \u001b[0;34m=\u001b[0m \u001b[0;34m[\u001b[0m\u001b[0mouts\u001b[0m\u001b[0;34m]\u001b[0m\u001b[0;34m\u001b[0m\u001b[0m\n",
      "\u001b[0;32m/Users/jessica/anaconda/lib/python3.5/site-packages/keras/backend/tensorflow_backend.py\u001b[0m in \u001b[0;36m__call__\u001b[0;34m(self, inputs)\u001b[0m\n\u001b[1;32m   1094\u001b[0m             \u001b[0mfeed_dict\u001b[0m\u001b[0;34m[\u001b[0m\u001b[0mtensor\u001b[0m\u001b[0;34m]\u001b[0m \u001b[0;34m=\u001b[0m \u001b[0mvalue\u001b[0m\u001b[0;34m\u001b[0m\u001b[0m\n\u001b[1;32m   1095\u001b[0m         \u001b[0msession\u001b[0m \u001b[0;34m=\u001b[0m \u001b[0mget_session\u001b[0m\u001b[0;34m(\u001b[0m\u001b[0;34m)\u001b[0m\u001b[0;34m\u001b[0m\u001b[0m\n\u001b[0;32m-> 1096\u001b[0;31m         \u001b[0mupdated\u001b[0m \u001b[0;34m=\u001b[0m \u001b[0msession\u001b[0m\u001b[0;34m.\u001b[0m\u001b[0mrun\u001b[0m\u001b[0;34m(\u001b[0m\u001b[0mself\u001b[0m\u001b[0;34m.\u001b[0m\u001b[0moutputs\u001b[0m \u001b[0;34m+\u001b[0m \u001b[0;34m[\u001b[0m\u001b[0mself\u001b[0m\u001b[0;34m.\u001b[0m\u001b[0mupdates_op\u001b[0m\u001b[0;34m]\u001b[0m\u001b[0;34m,\u001b[0m \u001b[0mfeed_dict\u001b[0m\u001b[0;34m=\u001b[0m\u001b[0mfeed_dict\u001b[0m\u001b[0;34m)\u001b[0m\u001b[0;34m\u001b[0m\u001b[0m\n\u001b[0m\u001b[1;32m   1097\u001b[0m         \u001b[0;32mreturn\u001b[0m \u001b[0mupdated\u001b[0m\u001b[0;34m[\u001b[0m\u001b[0;34m:\u001b[0m\u001b[0mlen\u001b[0m\u001b[0;34m(\u001b[0m\u001b[0mself\u001b[0m\u001b[0;34m.\u001b[0m\u001b[0moutputs\u001b[0m\u001b[0;34m)\u001b[0m\u001b[0;34m]\u001b[0m\u001b[0;34m\u001b[0m\u001b[0m\n\u001b[1;32m   1098\u001b[0m \u001b[0;34m\u001b[0m\u001b[0m\n",
      "\u001b[0;32m/Users/jessica/anaconda/lib/python3.5/site-packages/tensorflow/python/client/session.py\u001b[0m in \u001b[0;36mrun\u001b[0;34m(self, fetches, feed_dict, options, run_metadata)\u001b[0m\n\u001b[1;32m    370\u001b[0m     \u001b[0;32mtry\u001b[0m\u001b[0;34m:\u001b[0m\u001b[0;34m\u001b[0m\u001b[0m\n\u001b[1;32m    371\u001b[0m       result = self._run(None, fetches, feed_dict, options_ptr,\n\u001b[0;32m--> 372\u001b[0;31m                          run_metadata_ptr)\n\u001b[0m\u001b[1;32m    373\u001b[0m       \u001b[0;32mif\u001b[0m \u001b[0mrun_metadata\u001b[0m\u001b[0;34m:\u001b[0m\u001b[0;34m\u001b[0m\u001b[0m\n\u001b[1;32m    374\u001b[0m         \u001b[0mproto_data\u001b[0m \u001b[0;34m=\u001b[0m \u001b[0mtf_session\u001b[0m\u001b[0;34m.\u001b[0m\u001b[0mTF_GetBuffer\u001b[0m\u001b[0;34m(\u001b[0m\u001b[0mrun_metadata_ptr\u001b[0m\u001b[0;34m)\u001b[0m\u001b[0;34m\u001b[0m\u001b[0m\n",
      "\u001b[0;32m/Users/jessica/anaconda/lib/python3.5/site-packages/tensorflow/python/client/session.py\u001b[0m in \u001b[0;36m_run\u001b[0;34m(self, handle, fetches, feed_dict, options, run_metadata)\u001b[0m\n\u001b[1;32m    634\u001b[0m     \u001b[0;32mtry\u001b[0m\u001b[0;34m:\u001b[0m\u001b[0;34m\u001b[0m\u001b[0m\n\u001b[1;32m    635\u001b[0m       results = self._do_run(handle, target_list, unique_fetches,\n\u001b[0;32m--> 636\u001b[0;31m                              feed_dict_string, options, run_metadata)\n\u001b[0m\u001b[1;32m    637\u001b[0m     \u001b[0;32mfinally\u001b[0m\u001b[0;34m:\u001b[0m\u001b[0;34m\u001b[0m\u001b[0m\n\u001b[1;32m    638\u001b[0m       \u001b[0;31m# The movers are no longer used. Delete them.\u001b[0m\u001b[0;34m\u001b[0m\u001b[0;34m\u001b[0m\u001b[0m\n",
      "\u001b[0;32m/Users/jessica/anaconda/lib/python3.5/site-packages/tensorflow/python/client/session.py\u001b[0m in \u001b[0;36m_do_run\u001b[0;34m(self, handle, target_list, fetch_list, feed_dict, options, run_metadata)\u001b[0m\n\u001b[1;32m    706\u001b[0m     \u001b[0;32mif\u001b[0m \u001b[0mhandle\u001b[0m \u001b[0;32mis\u001b[0m \u001b[0;32mNone\u001b[0m\u001b[0;34m:\u001b[0m\u001b[0;34m\u001b[0m\u001b[0m\n\u001b[1;32m    707\u001b[0m       return self._do_call(_run_fn, self._session, feed_dict, fetch_list,\n\u001b[0;32m--> 708\u001b[0;31m                            target_list, options, run_metadata)\n\u001b[0m\u001b[1;32m    709\u001b[0m     \u001b[0;32melse\u001b[0m\u001b[0;34m:\u001b[0m\u001b[0;34m\u001b[0m\u001b[0m\n\u001b[1;32m    710\u001b[0m       return self._do_call(_prun_fn, self._session, handle, feed_dict,\n",
      "\u001b[0;32m/Users/jessica/anaconda/lib/python3.5/site-packages/tensorflow/python/client/session.py\u001b[0m in \u001b[0;36m_do_call\u001b[0;34m(self, fn, *args)\u001b[0m\n\u001b[1;32m    713\u001b[0m   \u001b[0;32mdef\u001b[0m \u001b[0m_do_call\u001b[0m\u001b[0;34m(\u001b[0m\u001b[0mself\u001b[0m\u001b[0;34m,\u001b[0m \u001b[0mfn\u001b[0m\u001b[0;34m,\u001b[0m \u001b[0;34m*\u001b[0m\u001b[0margs\u001b[0m\u001b[0;34m)\u001b[0m\u001b[0;34m:\u001b[0m\u001b[0;34m\u001b[0m\u001b[0m\n\u001b[1;32m    714\u001b[0m     \u001b[0;32mtry\u001b[0m\u001b[0;34m:\u001b[0m\u001b[0;34m\u001b[0m\u001b[0m\n\u001b[0;32m--> 715\u001b[0;31m       \u001b[0;32mreturn\u001b[0m \u001b[0mfn\u001b[0m\u001b[0;34m(\u001b[0m\u001b[0;34m*\u001b[0m\u001b[0margs\u001b[0m\u001b[0;34m)\u001b[0m\u001b[0;34m\u001b[0m\u001b[0m\n\u001b[0m\u001b[1;32m    716\u001b[0m     \u001b[0;32mexcept\u001b[0m \u001b[0merrors\u001b[0m\u001b[0;34m.\u001b[0m\u001b[0mOpError\u001b[0m \u001b[0;32mas\u001b[0m \u001b[0me\u001b[0m\u001b[0;34m:\u001b[0m\u001b[0;34m\u001b[0m\u001b[0m\n\u001b[1;32m    717\u001b[0m       \u001b[0mmessage\u001b[0m \u001b[0;34m=\u001b[0m \u001b[0mcompat\u001b[0m\u001b[0;34m.\u001b[0m\u001b[0mas_text\u001b[0m\u001b[0;34m(\u001b[0m\u001b[0me\u001b[0m\u001b[0;34m.\u001b[0m\u001b[0mmessage\u001b[0m\u001b[0;34m)\u001b[0m\u001b[0;34m\u001b[0m\u001b[0m\n",
      "\u001b[0;32m/Users/jessica/anaconda/lib/python3.5/site-packages/tensorflow/python/client/session.py\u001b[0m in \u001b[0;36m_run_fn\u001b[0;34m(session, feed_dict, fetch_list, target_list, options, run_metadata)\u001b[0m\n\u001b[1;32m    695\u001b[0m         return tf_session.TF_Run(session, options,\n\u001b[1;32m    696\u001b[0m                                  \u001b[0mfeed_dict\u001b[0m\u001b[0;34m,\u001b[0m \u001b[0mfetch_list\u001b[0m\u001b[0;34m,\u001b[0m \u001b[0mtarget_list\u001b[0m\u001b[0;34m,\u001b[0m\u001b[0;34m\u001b[0m\u001b[0m\n\u001b[0;32m--> 697\u001b[0;31m                                  status, run_metadata)\n\u001b[0m\u001b[1;32m    698\u001b[0m \u001b[0;34m\u001b[0m\u001b[0m\n\u001b[1;32m    699\u001b[0m     \u001b[0;32mdef\u001b[0m \u001b[0m_prun_fn\u001b[0m\u001b[0;34m(\u001b[0m\u001b[0msession\u001b[0m\u001b[0;34m,\u001b[0m \u001b[0mhandle\u001b[0m\u001b[0;34m,\u001b[0m \u001b[0mfeed_dict\u001b[0m\u001b[0;34m,\u001b[0m \u001b[0mfetch_list\u001b[0m\u001b[0;34m)\u001b[0m\u001b[0;34m:\u001b[0m\u001b[0;34m\u001b[0m\u001b[0m\n",
      "\u001b[0;31mKeyboardInterrupt\u001b[0m: "
     ]
    }
   ],
   "source": [
    "model.fit(X_train, y_train,\n",
    "              batch_size=batch_size,\n",
    "              nb_epoch=nb_epoch,\n",
    "              validation_data=(X_test, y_test),\n",
    "              shuffle=True)"
   ]
  },
  {
   "cell_type": "markdown",
   "metadata": {},
   "source": [
    "### Network I copied from my keras traffic classifier notebook"
   ]
  },
  {
   "cell_type": "raw",
   "metadata": {},
   "source": [
    "# Build the deep network\n",
    "# TODO: Build a two-layer feedforward neural network with Keras here.\n",
    "# Sequential model is a linear stack of layers.\n",
    "model = Sequential()\n",
    "# Dense is a fully connnected layer\n",
    "# Fully connected layer\n",
    "# -> allows for non-linear combination of features \n",
    "# discovered in the previous layer\n",
    "model.add(Dense(512, input_shape=(160*320*3,)))\n",
    "model.add(Activation('relu'))\n",
    "model.add(Dropout(0.2))\n",
    "# Layer 2\n",
    "hidden1 = model.add(Dense(128))\n",
    "model.add(Activation('relu'))\n",
    "model.add(Dropout(0.2))\n",
    "# Convert to 43 labels since 43 outputs\n",
    "model.add(Dense(43))\n",
    "# Softmax to compute probabilities\n",
    "output = model.add(Activation('softmax'))\n",
    "\n",
    "model.summary()\n",
    "\n",
    "# STOP: Do not change the tests below. Your implementation should pass these tests.\n",
    "assert(model.get_layer(name=\"hidden1\").input_shape == (None, 32*32*3)), \"The input shape is: %s\" % model.get_layer(name=\"hidden1\").input_shape\n",
    "assert(model.get_layer(name=\"output\").output_shape == (None, 43)), \"The output shape is: %s\" % model.get_layer(name=\"output\").output_shape "
   ]
  },
  {
   "cell_type": "markdown",
   "metadata": {},
   "source": [
    "### Process images lane-lines style\n",
    "\n",
    "Abandoned because we need to ask the car to drive in the simulator in real time, so we can't really train on an ultra-processed version of the image and expect it to generalise to the unprocessed version in real time."
   ]
  },
  {
   "cell_type": "raw",
   "metadata": {},
   "source": [
    "# Helper functions for drawing lane lines\n",
    "import math\n",
    "\n",
    "def grayscale(img):\n",
    "    \"\"\"Applies the Grayscale transform\n",
    "    This will return an image with only one color channel\n",
    "    but NOTE: to see the returned image as grayscale\n",
    "    you should call plt.imshow(gray, cmap='gray')\"\"\"\n",
    "    return cv2.cvtColor(img, cv2.COLOR_BGR2GRAY)\n",
    "    \n",
    "def canny(img, low_threshold, high_threshold):\n",
    "    \"\"\"Applies the Canny transform\"\"\"\n",
    "    return cv2.Canny(img, low_threshold, high_threshold)\n",
    "\n",
    "def gaussian_blur(img, kernel_size):\n",
    "    \"\"\"Applies a Gaussian Noise kernel\"\"\"\n",
    "    return cv2.GaussianBlur(img, (kernel_size, kernel_size), 0)\n",
    "\n",
    "def region_of_interest(img, vertices):\n",
    "    \"\"\"\n",
    "    Applies an image mask.\n",
    "    \n",
    "    Only keeps the region of the image defined by the polygon\n",
    "    formed from `vertices`. The rest of the image is set to black.\n",
    "    \"\"\"\n",
    "    #defining a blank mask to start with\n",
    "    mask = np.zeros_like(img)   \n",
    "    \n",
    "    #defining a 3 channel or 1 channel color to fill the mask with depending on the input image\n",
    "    if len(img.shape) > 2:\n",
    "        channel_count = img.shape[2]  # i.e. 3 or 4 depending on your image\n",
    "        ignore_mask_color = (255,) * channel_count\n",
    "    else:\n",
    "        ignore_mask_color = 255\n",
    "        \n",
    "    #filling pixels inside the polygon defined by \"vertices\" with the fill color    \n",
    "    cv2.fillPoly(mask, vertices, ignore_mask_color)\n",
    "    \n",
    "    #returning the image only where mask pixels are nonzero\n",
    "    masked_image = cv2.bitwise_and(img, mask)\n",
    "    return masked_image\n",
    "\n",
    "def hough_lines(img, rho, theta, threshold, min_line_len, max_line_gap):\n",
    "    \"\"\"\n",
    "    `img` should be the output of a Canny transform.\n",
    "        \n",
    "    Returns an image with hough lines drawn.\n",
    "    \"\"\"\n",
    "    lines = cv2.HoughLinesP(img, rho, theta, threshold, np.array([]), \n",
    "                            minLineLength=min_line_len, maxLineGap=max_line_gap)\n",
    "    # print(\"Hough lines: \", lines)\n",
    "    line_img = np.zeros(img.shape, dtype=np.uint8)\n",
    "    draw_lines(line_img, lines)\n",
    "    return line_img\n",
    "\n",
    "# Python 3 has support for cool math symbols.\n",
    "\n",
    "def weighted_img(img, initial_img, α=0.8, β=1., λ=0.):\n",
    "    \"\"\"\n",
    "    `img` is the output of the hough_lines(), An image with lines drawn on it.\n",
    "    Should be a blank image (all black) with lines drawn on it.\n",
    "    \n",
    "    `initial_img` should be the image before any processing.\n",
    "    \n",
    "    The result image is computed as follows:\n",
    "    \n",
    "    initial_img * α + img * β + λ\n",
    "    NOTE: initial_img and img must be the same shape!\n",
    "    \"\"\"\n",
    "    return cv2.addWeighted(initial_img, α, img, β, λ)\n",
    "\n",
    "def intersection_x(coef1, intercept1, coef2, intercept2):\n",
    "    \"\"\"Returns x-coordinate of intersection of two lines.\"\"\"\n",
    "    x = (intercept2-intercept1)/(coef1-coef2)\n",
    "    return x\n",
    "\n",
    "def draw_linear_regression_line(coef, intercept, intersection_x, img, imshape=[540,960], color=[255, 0, 0], thickness=2):\n",
    "    \n",
    "    # Get starting and ending points of regression line, ints.\n",
    "    print(\"Coef: \", coef, \"Intercept: \", intercept, \n",
    "          \"intersection_x: \", intersection_x)\n",
    "    point_one = (int(intersection_x), int(intersection_x * coef + intercept))\n",
    "    if coef > 0:\n",
    "        point_two = (imshape[1], int(imshape[1] * coef + intercept))\n",
    "    elif coef < 0:\n",
    "        point_two = (0, int(0 * coef + intercept))\n",
    "    print(\"Point one: \", point_one, \"Point two: \", point_two)\n",
    "    \n",
    "    # Draw line using cv2.line\n",
    "    cv2.line(img, point_one, point_two, color, thickness)\n",
    "\n",
    "def find_line_fit(slope_intercept):\n",
    "    \"\"\"slope_intercept is an array [[slope, intercept], [slope, intercept]...].\"\"\"\n",
    "\n",
    "    # Initialise arrays\n",
    "    kept_slopes = []\n",
    "    kept_intercepts = []\n",
    "    print(\"Slope & intercept: \", slope_intercept)\n",
    "    if len(slope_intercept) == 1:\n",
    "        return slope_intercept[0][0], slope_intercept[0][1]\n",
    "\n",
    "    # Remove points with slope not within 1.5 standard deviations of the mean\n",
    "    slopes = [pair[0] for pair in slope_intercept]\n",
    "    mean_slope = np.mean(slopes)\n",
    "    slope_std = np.std(slopes)\n",
    "    for pair in slope_intercept:\n",
    "        slope = pair[0]\n",
    "        if slope - mean_slope < 1.5 * slope_std:\n",
    "            kept_slopes.append(slope)\n",
    "            kept_intercepts.append(pair[1])\n",
    "    if not kept_slopes:\n",
    "        kept_slopes = slopes\n",
    "        kept_intercepts = [pair[1] for pair in slope_intercept]\n",
    "    # Take estimate of slope, intercept to be the mean of remaining values\n",
    "    slope = np.mean(kept_slopes)\n",
    "    intercept = np.mean(kept_intercepts)\n",
    "    print(\"Slope: \", slope, \"Intercept: \", intercept)\n",
    "    return slope, intercept\n",
    "\n",
    "def draw_lines(img, lines, color=[255, 0, 0], thickness=2):\n",
    "    \"\"\"\n",
    "    NOTE: this is the function you might want to use as a starting point once you want to \n",
    "    average/extrapolate the line segments you detect to map out the full\n",
    "    extent of the lane (going from the result shown in raw-lines-example.mp4\n",
    "    to that shown in P1_example.mp4).  \n",
    "    \n",
    "    Think about things like separating line segments by their \n",
    "    slope ((y2-y1)/(x2-x1)) to decide which segments are part of the left\n",
    "    line vs. the right line.  Then, you can average the position of each of \n",
    "    the lines and extrapolate to the top and bottom of the lane.\n",
    "    \n",
    "    This function draws `lines` with `color` and `thickness`.    \n",
    "    Lines are drawn on the image inplace (mutates the image).\n",
    "    If you want to make the lines semi-transparent, think about combining\n",
    "    this function with the weighted_img() function below\n",
    "    \"\"\"\n",
    "    # Image parameters (hard-coded. TODO: Make not hard-coded.)\n",
    "    imshape = [540, 960]\n",
    "    \n",
    "    # Initialise arrays\n",
    "    positive_slope_points = []\n",
    "    negative_slope_points = []\n",
    "    positive_slope_intercept = []\n",
    "    negative_slope_intercept = []\n",
    "    \n",
    "    for line in lines:\n",
    "        for x1,y1,x2,y2 in line:            \n",
    "            slope = (y1-y2)/(x1-x2)\n",
    "            # print(\"Points: \", [x1, y1, x2, y2])\n",
    "            length = math.sqrt((x1-x2)**2 + (y1-y2)**2)\n",
    "            # print(\"Length: \", length)\n",
    "            if not math.isnan(slope):\n",
    "                if length > 50:\n",
    "                    if slope > 0:\n",
    "                        positive_slope_points.append([x1, y1])\n",
    "                        positive_slope_points.append([x2, y2])\n",
    "                        positive_slope_intercept.append([slope, y1-slope*x1])\n",
    "                    elif slope < 0:\n",
    "                        negative_slope_points.append([x1, y1])\n",
    "                        negative_slope_points.append([x2, y2])\n",
    "                        negative_slope_intercept.append([slope, y1-slope*x1])\n",
    "        \n",
    "    # If either array is empty, waive length requirement\n",
    "    if not positive_slope_points:\n",
    "        for line in lines:\n",
    "            for x1,y1,x2,y2 in line:            \n",
    "                slope = (y1-y2)/(x1-x2)\n",
    "                if slope > 0:\n",
    "                    positive_slope_points.append([x1, y1])\n",
    "                    positive_slope_points.append([x2, y2])\n",
    "                    positive_slope_intercept.append([slope, y1-slope*x1])\n",
    "    if not negative_slope_points:\n",
    "        for line in lines:\n",
    "            for x1,y1,x2,y2 in line:            \n",
    "                slope = (y1-y2)/(x1-x2)\n",
    "                if slope < 0:\n",
    "                    negative_slope_points.append([x1, y1])\n",
    "                    negative_slope_points.append([x2, y2])\n",
    "                    negative_slope_intercept.append([slope, y1-slope*x1])\n",
    "    if not positive_slope_points:\n",
    "        print(\"positive_slope_points still empty\")\n",
    "    if not negative_slope_points:\n",
    "        print(\"negative_slope_points still empty\")\n",
    "    # Even though positive_slope_points is not used, I am keeping it for debugging purposes.\n",
    "    positive_slope_points = np.array(positive_slope_points)\n",
    "    negative_slope_points = np.array(negative_slope_points)\n",
    "    # print(\"Positive slope line points: \", positive_slope_points)\n",
    "    # print(\"Negative slope line points: \", negative_slope_points)\n",
    "    # print(\"positive slope points dtype: \", positive_slope_points.dtype)\n",
    "\n",
    "    # Get intercept and coefficient of fitted lines\n",
    "    pos_coef, pos_intercept = find_line_fit(positive_slope_intercept)\n",
    "    neg_coef, neg_intercept = find_line_fit(negative_slope_intercept)\n",
    "    \n",
    "    # Discarded Linear Regression Option:\n",
    "    # Get intercept and coefficient of linear regression lines\n",
    "    # pos_coef, pos_intercept = find_linear_regression_line(positive_slope_points)\n",
    "    # neg_coef, neg_intercept = find_linear_regression_line(negative_slope_points)\n",
    "    \n",
    "    # Get intersection point\n",
    "    intersection_x_coord = intersection_x(pos_coef, pos_intercept, neg_coef, neg_intercept)\n",
    "    \n",
    "    # Plot lines\n",
    "    draw_linear_regression_line(pos_coef, pos_intercept, intersection_x_coord, img)\n",
    "    draw_linear_regression_line(neg_coef, neg_intercept, intersection_x_coord, img)"
   ]
  },
  {
   "cell_type": "raw",
   "metadata": {},
   "source": [
    "imshape = X_images[0].shape\n",
    "vertices = np.array([[(140,100),(0,140),(0,90),(140, 60), (160, 60), (imshape[1],90),(imshape[1],140),(160,100)]], dtype=np.int32)\n",
    "plt.imshow(region_of_interest(X_images[0], vertices))"
   ]
  },
  {
   "cell_type": "raw",
   "metadata": {},
   "source": [
    "# Process\n",
    "\n",
    "def draw_lane_lines(image):\n",
    "    \"\"\"Draw lane lines in white on original image.\"\"\"\n",
    "    # Print image details\n",
    "    # print(\"image.shape: \", image.shape)\n",
    "    imshape = image.shape\n",
    "    \n",
    "    # Greyscale image\n",
    "    greyscaled_image = grayscale(image)\n",
    "    print(\"Grayscaled image\")\n",
    "    plt.subplot(2,2,1)\n",
    "    plt.imshow(greyscaled_image, cmap=\"gray\")\n",
    "    \n",
    "    # Gaussian Blur\n",
    "    blurred_grey_image = gaussian_blur(greyscaled_image, 5)\n",
    "    \n",
    "    # Canny edge detection\n",
    "    edges_image = canny(blurred_grey_image, 50, 150)\n",
    "    \n",
    "    # Mask edges image\n",
    "    border = 0\n",
    "    # vertices = np.array([[(0,140),(0,90),(140, 60), (160, 60), (imshape[1],90),(imshape[1],140)]], dtype=np.int32)\n",
    "    vertices = np.array([[(140,100),(0,140),(0,90),(140, 60), (160, 60), (imshape[1],90),(imshape[1],140),(160,100)]], dtype=np.int32)\n",
    "\n",
    "    edges_image_with_mask = region_of_interest(edges_image, vertices)\n",
    "    ## Plot masked edges image\n",
    "    bw_edges_image_with_mask = cv2.cvtColor(edges_image_with_mask, cv2.COLOR_GRAY2BGR)\n",
    "    print(\"BW edges image with mask\")\n",
    "    plt.subplot(2,2,2)\n",
    "    plt.imshow(bw_edges_image_with_mask)\n",
    "    \n",
    "    # Hough lines\n",
    "    rho = 2 # distance resolution in pixels of the Hough grid\n",
    "    theta = np.pi/180 # angular resolution in radians of the Hough grid\n",
    "    threshold = 45     # minimum number of votes (intersections in Hough grid cell)\n",
    "    min_line_len = 40 #minimum number of pixels making up a line\n",
    "    max_line_gap = 100    # maximum gap in pixels between connectable line segments\n",
    "    lines_image = hough_lines(edges_image_with_mask, rho, theta, threshold, min_line_len, max_line_gap)\n",
    "    \n",
    "    # Convert Hough from single channel to RGB to prep for weighted\n",
    "    # TODO: Have it convert the lines to red, not white.\n",
    "    hough_rgb_image = cv2.cvtColor(lines_image, cv2.COLOR_GRAY2BGR)\n",
    "    # hough_rgb_image.dtype: uint8.  Shape: (540,960,3).\n",
    "    # hough_rgb_image is like [[[0 0 0], [0 0 0],...] [[0 0 0], [0 0 0],...]]\n",
    "    ## Plot Hough lines image\n",
    "    print(\"Hough lines image\")\n",
    "    plt.subplot(2,2,3)\n",
    "    plt.imshow(hough_rgb_image)    \n",
    "    \n",
    "    return hough_rgb_image"
   ]
  },
  {
   "cell_type": "raw",
   "metadata": {},
   "source": [
    "draw_lane_lines(X_images[0])"
   ]
  },
  {
   "cell_type": "raw",
   "metadata": {},
   "source": [
    "for i in range(60, len(X_images_temp)):\n",
    "    X.append(draw_lane_lines(X_images_temp[i]))\n",
    "    print(\"%d th image added\" % i)"
   ]
  }
 ],
 "metadata": {
  "kernelspec": {
   "display_name": "Python 3",
   "language": "python",
   "name": "python3"
  },
  "language_info": {
   "codemirror_mode": {
    "name": "ipython",
    "version": 3
   },
   "file_extension": ".py",
   "mimetype": "text/x-python",
   "name": "python",
   "nbconvert_exporter": "python",
   "pygments_lexer": "ipython3",
   "version": "3.5.1"
  }
 },
 "nbformat": 4,
 "nbformat_minor": 0
}
